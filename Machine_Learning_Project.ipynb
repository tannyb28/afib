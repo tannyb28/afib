{
  "nbformat": 4,
  "nbformat_minor": 0,
  "metadata": {
    "colab": {
      "provenance": [],
      "include_colab_link": true
    },
    "kernelspec": {
      "name": "python3",
      "display_name": "Python 3"
    },
    "language_info": {
      "name": "python"
    }
  },
  "cells": [
    {
      "cell_type": "markdown",
      "metadata": {
        "id": "view-in-github",
        "colab_type": "text"
      },
      "source": [
        "<a href=\"https://colab.research.google.com/github/tannyb28/afib/blob/main/Machine_Learning_Project.ipynb\" target=\"_parent\"><img src=\"https://colab.research.google.com/assets/colab-badge.svg\" alt=\"Open In Colab\"/></a>"
      ]
    },
    {
      "cell_type": "markdown",
      "metadata": {
        "id": "myU9ITGrBrK_"
      },
      "source": [
        "## Import the modules we need\n",
        "These are the common ones we've used previously"
      ]
    },
    {
      "cell_type": "code",
      "metadata": {
        "id": "6Ym25mW0EdF0"
      },
      "source": [
        "import numpy as np\n",
        "import tensorflow as tf\n",
        "import matplotlib.pyplot as plt"
      ],
      "execution_count": null,
      "outputs": []
    },
    {
      "cell_type": "markdown",
      "metadata": {
        "id": "HObwTLEBB4Du"
      },
      "source": [
        "## Mount your Google Drive to this Colab session\n",
        "We are doing this so that we can read in data that is stored on your Google Drive (your ECG training data)\n",
        "\n",
        "When you run the drive.mount() function, it will give you a link to click so that you authenticate your Google account.  Follow the prompts and it will give you a long password that you can copy and paste into the box that shows up below this block of code.  Once you do that, you will be able to access your Google Drive from this Colab session."
      ]
    },
    {
      "cell_type": "code",
      "metadata": {
        "id": "hhXoMCWPEfK_",
        "colab": {
          "base_uri": "https://localhost:8080/"
        },
        "outputId": "561ce0c4-386e-4d01-bf9d-3fa8aa797eb9"
      },
      "source": [
        "from google.colab import drive\n",
        "drive.mount('/content/gdrive')"
      ],
      "execution_count": null,
      "outputs": [
        {
          "output_type": "stream",
          "name": "stdout",
          "text": [
            "Mounted at /content/gdrive\n"
          ]
        }
      ]
    },
    {
      "cell_type": "markdown",
      "metadata": {
        "id": "_eGsPOmxCojO"
      },
      "source": [
        "## Load in the ECG data from the file\n",
        "Store the file in a list of lines in the file that we will process to get the ECG data.\n",
        "\n",
        "*fname* is the location I stored my ECG data file.  You will have to change this to where you saved the ECG data on your Google Drive"
      ]
    },
    {
      "cell_type": "code",
      "metadata": {
        "id": "wacQeX_6EuyA"
      },
      "source": [
        "# Change fname to correct location\n",
        "fname = '/content/gdrive/MyDrive/Colab Notebooks/physionet2017_ECG_training_data.csv'\n",
        "with open( fname ) as file:\n",
        "  lines = file.readlines()"
      ],
      "execution_count": null,
      "outputs": []
    },
    {
      "cell_type": "markdown",
      "metadata": {
        "id": "iB85tMkqDbr3"
      },
      "source": [
        "## Parse each line of ECG data\n",
        "The last piece of data on each line is the label, the second to last piece of data on each line is a 'name' identifier, which is some sort of unique ID that we don't care about.\n",
        "\n",
        "The rest of the data on each line is the ECG signal collected at 300 Hz.  The original data was of variable length, but for this project, each line contains exactly 2000 data points from the ECG.\n",
        "\n",
        "### All we did here was take each of the 2000 data points and made them each a feature for our model.\n",
        "*You may want to consider some pre-processing or data manipulation to give the model a different set of features.*"
      ]
    },
    {
      "cell_type": "code",
      "metadata": {
        "id": "BHlwCQlmIYHp"
      },
      "source": [
        "# Set up a list of features and list of corresponding labels\n",
        "features = []\n",
        "labels = []\n",
        "for line in lines:\n",
        "\n",
        "# We know its a .csv file, so split each line apart by commas\n",
        "    pieces = line.split(',')\n",
        "\n",
        "# The last piece of data on each line is the label (0,1,2,3)\n",
        "# We have to convert it from string to float and then to an integer to get a (0,1,2,3)\n",
        "    labels.append( int( float( pieces[-1].strip() ) ) )\n",
        "\n",
        "# Split out the ECG data (don't include the last two columns)\n",
        "# At this poitnt each piece is still treated as a string, so it has to be converted to a floating point number\n",
        "    string_data=pieces[0:-2]\n",
        "\n",
        "# Store all the data for each case in a list\n",
        "    data = []\n",
        "    for piece in string_data:\n",
        "        data.append( float( piece ) )\n",
        "\n",
        "# Store the ECG data as a tensor in the features list\n",
        "    features.append( tf.convert_to_tensor( data ) )"
      ],
      "execution_count": null,
      "outputs": []
    },
    {
      "cell_type": "markdown",
      "metadata": {
        "id": "0SjsVqgyQ7Ox"
      },
      "source": [
        "## Resample data to make number of samples smaller"
      ]
    },
    {
      "cell_type": "code",
      "metadata": {
        "id": "orT-PFqePsxS"
      },
      "source": [
        "# This will resample data --- the best it can do is dobule the number of samples or half the number of samples\n",
        "# If the required resampling is outside that range, it would be better to call this multiple times\n",
        "def resample_data( input_data, num_resample_points ):\n",
        "    input_length = len( input_data )\n",
        "\n",
        "# Save time if there is no change in the sampling\n",
        "    if input_length == num_resample_points:\n",
        "        return input_data\n",
        "\n",
        "# When downsampling, calculate how many points to get rid of and evenly space them out\n",
        "# Create a list of indices to cut out and use the conveneient numpy function delete\n",
        "# to simultanseously remove all of the specificed indices\n",
        "    elif input_length > num_resample_points:\n",
        "        points_to_cut = input_length - num_resample_points - 1\n",
        "        cut_every = np.floor( input_length / points_to_cut )\n",
        "        cut_indices = []\n",
        "        for i in range(1,points_to_cut+1):\n",
        "            cut_indices.append( int(i*cut_every) )\n",
        "        return np.delete( input_data, cut_indices )\n",
        "\n",
        "# When upsampling, it takes more time because we have to go through every point\n",
        "# in the data.  When adding a point, add a point that is the average of two\n",
        "# adjacent points.\n",
        "    else:\n",
        "        points_to_add = num_resample_points - input_length\n",
        "        add_every = np.floor( input_length / points_to_add )\n",
        "        counter = 0\n",
        "        output_data = []\n",
        "        for i in range(0,input_length-1):\n",
        "            output_data.append( input_data[i] )\n",
        "            if counter < add_every:\n",
        "                counter += 1\n",
        "            else:\n",
        "                counter = 0\n",
        "                output_data.append( ( input_data[i]+input_data[i+1] ) / 2.0 )\n",
        "        output_data.append( input_data[-1] )\n",
        "        return output_data"
      ],
      "execution_count": null,
      "outputs": []
    },
    {
      "cell_type": "code",
      "metadata": {
        "id": "uVillyI7POgG"
      },
      "source": [
        "# Downsample from 1999 points to 500 points\n",
        "new_features = []\n",
        "for feature in features:\n",
        "    new_features.append( tf.convert_to_tensor( resample_data( feature, 1000 ) ) )\n",
        "\n",
        "# We are also going to force the data to 16 bit floating point type to save a little bit of memory/disk space\n",
        "# We don't need 32 bits precision for this\n",
        "new_features2 = []\n",
        "for feature in new_features:\n",
        "    new_features2.append( tf.cast( tf.convert_to_tensor( resample_data( feature, 500 ) ), tf.float16 ) )\n",
        "\n",
        "# We are also going to force the data to 16 bit floating point type to save a little bit of memory/disk space\n",
        "# We don't need 32 bits precision for this\n",
        "# for feature in new_features:\n",
        "    # new_features2.append( tf.cast( tf.convert_to_tensor( new_features ), tf.float16 ) )\n"
      ],
      "execution_count": null,
      "outputs": []
    },
    {
      "cell_type": "code",
      "metadata": {
        "colab": {
          "base_uri": "https://localhost:8080/"
        },
        "id": "7svGZbaDaF7y",
        "outputId": "ecb2e3e4-4c96-4861-b6e1-91cacacaca9b"
      },
      "source": [
        "print(len(new_features[0]))"
      ],
      "execution_count": null,
      "outputs": [
        {
          "output_type": "stream",
          "name": "stdout",
          "text": [
            "1001\n"
          ]
        }
      ]
    },
    {
      "cell_type": "markdown",
      "metadata": {
        "id": "U2ktQWOZI-lC"
      },
      "source": [
        "## Look at the ECG data\n",
        "Set EXAMPLE to some number which is the index of the ECG trace to look at\n",
        "This snippet will plot the ECG trace and report the label"
      ]
    },
    {
      "cell_type": "code",
      "metadata": {
        "colab": {
          "base_uri": "https://localhost:8080/",
          "height": 282
        },
        "id": "undA3sAEFziH",
        "outputId": "b464e8b0-de06-41a5-bf46-53afe9d28958"
      },
      "source": [
        "EXAMPLE = 7527\n",
        "plt.figure()\n",
        "plt.plot( new_features2[EXAMPLE] )\n",
        "plt.show()\n",
        "print( labels[EXAMPLE] )"
      ],
      "execution_count": null,
      "outputs": [
        {
          "output_type": "display_data",
          "data": {
            "image/png": "[encoded data removed]",
            "text/plain": [
              "<Figure size 432x288 with 1 Axes>"
            ]
          },
          "metadata": {
            "needs_background": "light"
          }
        },
        {
          "output_type": "stream",
          "name": "stdout",
          "text": [
            "2\n"
          ]
        }
      ]
    },
    {
      "cell_type": "markdown",
      "metadata": {
        "id": "xg6y7GyJK1Pb"
      },
      "source": [
        "## Split the data up into a training set and a validation set\n",
        "Had to use convert to tensor function to convert the input for the model from a list to a tensor."
      ]
    },
    {
      "cell_type": "code",
      "metadata": {
        "id": "itZB58WbG_9R"
      },
      "source": [
        "from sklearn.model_selection import train_test_split\n",
        "train_features, val_features, train_labels, val_labels = train_test_split( new_features2, labels, test_size=0.2 )\n",
        "train_features = tf.convert_to_tensor( train_features )\n",
        "val_features = tf.convert_to_tensor( val_features )"
      ],
      "execution_count": null,
      "outputs": []
    },
    {
      "cell_type": "markdown",
      "metadata": {
        "id": "jV4fQPuqLL8z"
      },
      "source": [
        "## Convert the output categories from a single integer value into one-hot vectors\n",
        "The result of the IntegerLookup layer will be each of the classifications (0,1,2,3) plus a -1 which indicates 'Unknown'\n",
        "\n",
        "Encode both the training and testing labels as one-hot vectors\n",
        "\n",
        "*You don't necessarily have to do this step if you don't want to use one-hot vectors for output.*"
      ]
    },
    {
      "cell_type": "code",
      "metadata": {
        "id": "8l30PR0wGKdI",
        "colab": {
          "base_uri": "https://localhost:8080/"
        },
        "outputId": "c9231368-4c6d-4981-d28c-0423ae2ccc6c"
      },
      "source": [
        "# Set up one hot vector for output\n",
        "categorizer = tf.keras.layers.IntegerLookup( output_mode = 'one_hot' )\n",
        "categorizer.adapt( train_labels )\n",
        "print( categorizer.get_vocabulary() )\n",
        "\n",
        "# Now encode both the training and testing labels as one-hot vectors\n",
        "encoded_labels = categorizer( train_labels )\n",
        "encoded_val_labels = categorizer( val_labels )"
      ],
      "execution_count": null,
      "outputs": [
        {
          "output_type": "stream",
          "name": "stdout",
          "text": [
            "[-1, 0, 2, 1, 3]\n"
          ]
        }
      ]
    },
    {
      "cell_type": "markdown",
      "metadata": {
        "id": "W3VyM3DUJivi"
      },
      "source": [
        "## Build and compile the model\n",
        "* To do"
      ]
    },
    {
      "cell_type": "code",
      "metadata": {
        "id": "Bi_-AVU5Gw-Q"
      },
      "source": [
        "model = tf.keras.models.Sequential()\n",
        "model.add(tf.keras.layers.Dense(units=150,activation='relu'))\n",
        "model.add(tf.keras.layers.Dropout(0.7))\n",
        "model.add(tf.keras.layers.Dense( 10,kernel_regularizer=tf.keras.regularizers.l1(0.01) ))\n",
        "model.add(tf.keras.layers.Dense( 10,kernel_regularizer=tf.keras.regularizers.l2(0.01) ))\n",
        "model.add( tf.keras.layers.Dense(units=5,activation='softmax'))\n",
        "\n",
        "lr = 0.001\n",
        "my_optimizer = tf.keras.optimizers.Adam(lr)\n",
        "model.compile(optimizer=my_optimizer, loss=tf.keras.losses.CategoricalCrossentropy(), metrics=[tf.keras.metrics.CategoricalAccuracy()])\n"
      ],
      "execution_count": null,
      "outputs": []
    },
    {
      "cell_type": "code",
      "metadata": {
        "colab": {
          "base_uri": "https://localhost:8080/"
        },
        "id": "89IVlS9uTvXG",
        "outputId": "d76820a5-2c09-4b96-a50f-3e77a95a4c91"
      },
      "source": [
        "print(len(new_features2[0]))"
      ],
      "execution_count": null,
      "outputs": [
        {
          "output_type": "stream",
          "name": "stdout",
          "text": [
            "501\n"
          ]
        }
      ]
    },
    {
      "cell_type": "markdown",
      "metadata": {
        "id": "pqpXfddAJpOi"
      },
      "source": [
        "## Train the model\n",
        "* To do"
      ]
    },
    {
      "cell_type": "code",
      "metadata": {
        "id": "sUfr3pnVMFxk",
        "colab": {
          "base_uri": "https://localhost:8080/"
        },
        "outputId": "f4375573-c6ca-4fca-a2e3-7bd291e56955"
      },
      "source": [
        "num_epochs=30\n",
        "batch_size=256\n",
        "history = model.fit( train_features, encoded_labels, batch_size=batch_size, epochs=num_epochs, validation_data=(val_features,encoded_val_labels) )"
      ],
      "execution_count": null,
      "outputs": [
        {
          "output_type": "stream",
          "name": "stdout",
          "text": [
            "Epoch 1/30\n",
            "24/24 [==============================] - 1s 18ms/step - loss: 3.0253 - categorical_accuracy: 0.3987 - val_loss: 2.6021 - val_categorical_accuracy: 0.6102\n",
            "Epoch 2/30\n",
            "24/24 [==============================] - 0s 10ms/step - loss: 2.5271 - categorical_accuracy: 0.5809 - val_loss: 2.2962 - val_categorical_accuracy: 0.6109\n",
            "Epoch 3/30\n",
            "24/24 [==============================] - 0s 8ms/step - loss: 2.2415 - categorical_accuracy: 0.5915 - val_loss: 2.0603 - val_categorical_accuracy: 0.6109\n",
            "Epoch 4/30\n",
            "24/24 [==============================] - 0s 8ms/step - loss: 2.0076 - categorical_accuracy: 0.5925 - val_loss: 1.8568 - val_categorical_accuracy: 0.6109\n",
            "Epoch 5/30\n",
            "24/24 [==============================] - 0s 9ms/step - loss: 1.8039 - categorical_accuracy: 0.5953 - val_loss: 1.6836 - val_categorical_accuracy: 0.6096\n",
            "Epoch 6/30\n",
            "24/24 [==============================] - 0s 8ms/step - loss: 1.6396 - categorical_accuracy: 0.5945 - val_loss: 1.5356 - val_categorical_accuracy: 0.6109\n",
            "Epoch 7/30\n",
            "24/24 [==============================] - 0s 8ms/step - loss: 1.5006 - categorical_accuracy: 0.5965 - val_loss: 1.4129 - val_categorical_accuracy: 0.6109\n",
            "Epoch 8/30\n",
            "24/24 [==============================] - 0s 9ms/step - loss: 1.3907 - categorical_accuracy: 0.5947 - val_loss: 1.3168 - val_categorical_accuracy: 0.6096\n",
            "Epoch 9/30\n",
            "24/24 [==============================] - 0s 8ms/step - loss: 1.3019 - categorical_accuracy: 0.5937 - val_loss: 1.2434 - val_categorical_accuracy: 0.6096\n",
            "Epoch 10/30\n",
            "24/24 [==============================] - 0s 8ms/step - loss: 1.2407 - categorical_accuracy: 0.5935 - val_loss: 1.1893 - val_categorical_accuracy: 0.6096\n",
            "Epoch 11/30\n",
            "24/24 [==============================] - 0s 10ms/step - loss: 1.1951 - categorical_accuracy: 0.5915 - val_loss: 1.1500 - val_categorical_accuracy: 0.6096\n",
            "Epoch 12/30\n",
            "24/24 [==============================] - 0s 8ms/step - loss: 1.1623 - categorical_accuracy: 0.5917 - val_loss: 1.1202 - val_categorical_accuracy: 0.6096\n",
            "Epoch 13/30\n",
            "24/24 [==============================] - 0s 8ms/step - loss: 1.1383 - categorical_accuracy: 0.5905 - val_loss: 1.0999 - val_categorical_accuracy: 0.6096\n",
            "Epoch 14/30\n",
            "24/24 [==============================] - 0s 8ms/step - loss: 1.1208 - categorical_accuracy: 0.5905 - val_loss: 1.0849 - val_categorical_accuracy: 0.6096\n",
            "Epoch 15/30\n",
            "24/24 [==============================] - 0s 9ms/step - loss: 1.1079 - categorical_accuracy: 0.5905 - val_loss: 1.0733 - val_categorical_accuracy: 0.6096\n",
            "Epoch 16/30\n",
            "24/24 [==============================] - 0s 9ms/step - loss: 1.1002 - categorical_accuracy: 0.5905 - val_loss: 1.0632 - val_categorical_accuracy: 0.6096\n",
            "Epoch 17/30\n",
            "24/24 [==============================] - 0s 8ms/step - loss: 1.0915 - categorical_accuracy: 0.5905 - val_loss: 1.0549 - val_categorical_accuracy: 0.6096\n",
            "Epoch 18/30\n",
            "24/24 [==============================] - 0s 10ms/step - loss: 1.0848 - categorical_accuracy: 0.5905 - val_loss: 1.0479 - val_categorical_accuracy: 0.6096\n",
            "Epoch 19/30\n",
            "24/24 [==============================] - 0s 8ms/step - loss: 1.0751 - categorical_accuracy: 0.5905 - val_loss: 1.0412 - val_categorical_accuracy: 0.6096\n",
            "Epoch 20/30\n",
            "24/24 [==============================] - 0s 8ms/step - loss: 1.0712 - categorical_accuracy: 0.5905 - val_loss: 1.0353 - val_categorical_accuracy: 0.6096\n",
            "Epoch 21/30\n",
            "24/24 [==============================] - 0s 9ms/step - loss: 1.0657 - categorical_accuracy: 0.5905 - val_loss: 1.0308 - val_categorical_accuracy: 0.6096\n",
            "Epoch 22/30\n",
            "24/24 [==============================] - 0s 8ms/step - loss: 1.0599 - categorical_accuracy: 0.5905 - val_loss: 1.0268 - val_categorical_accuracy: 0.6096\n",
            "Epoch 23/30\n",
            "24/24 [==============================] - 0s 8ms/step - loss: 1.0567 - categorical_accuracy: 0.5905 - val_loss: 1.0229 - val_categorical_accuracy: 0.6096\n",
            "Epoch 24/30\n",
            "24/24 [==============================] - 0s 8ms/step - loss: 1.0535 - categorical_accuracy: 0.5905 - val_loss: 1.0194 - val_categorical_accuracy: 0.6096\n",
            "Epoch 25/30\n",
            "24/24 [==============================] - 0s 8ms/step - loss: 1.0513 - categorical_accuracy: 0.5905 - val_loss: 1.0157 - val_categorical_accuracy: 0.6096\n",
            "Epoch 26/30\n",
            "24/24 [==============================] - 0s 9ms/step - loss: 1.0470 - categorical_accuracy: 0.5905 - val_loss: 1.0127 - val_categorical_accuracy: 0.6096\n",
            "Epoch 27/30\n",
            "24/24 [==============================] - 0s 8ms/step - loss: 1.0436 - categorical_accuracy: 0.5905 - val_loss: 1.0102 - val_categorical_accuracy: 0.6096\n",
            "Epoch 28/30\n",
            "24/24 [==============================] - 0s 8ms/step - loss: 1.0411 - categorical_accuracy: 0.5905 - val_loss: 1.0078 - val_categorical_accuracy: 0.6096\n",
            "Epoch 29/30\n",
            "24/24 [==============================] - 0s 8ms/step - loss: 1.0395 - categorical_accuracy: 0.5905 - val_loss: 1.0053 - val_categorical_accuracy: 0.6096\n",
            "Epoch 30/30\n",
            "24/24 [==============================] - 0s 7ms/step - loss: 1.0345 - categorical_accuracy: 0.5910 - val_loss: 1.0040 - val_categorical_accuracy: 0.6096\n"
          ]
        }
      ]
    },
    {
      "cell_type": "markdown",
      "metadata": {
        "id": "2XeSLvEgJueq"
      },
      "source": [
        "## Plotting function\n",
        "Same one we have been using before"
      ]
    },
    {
      "cell_type": "code",
      "metadata": {
        "id": "kqRawCaNJC-t"
      },
      "source": [
        "##########\n",
        "# Plot the loss as a function of epoch.  Can use this plot to determine how the\n",
        "# training went.\n",
        "def plot_loss( epochs, loss, label, val=None ):\n",
        "\n",
        "# Make a figure and add axes labels\n",
        "    plt.figure()\n",
        "    plt.xlabel( 'Epoch' )\n",
        "    plt.ylabel( label )\n",
        "\n",
        "# Just plot the loss vs the epoch number\n",
        "    plt.plot( epochs, loss )\n",
        "    if val != None:\n",
        "      plt.plot( epochs, val )\n",
        "    plt.show()\n",
        "#\n",
        "# End of plot_loss function\n",
        "##########"
      ],
      "execution_count": null,
      "outputs": []
    },
    {
      "cell_type": "code",
      "metadata": {
        "colab": {
          "base_uri": "https://localhost:8080/",
          "height": 541
        },
        "id": "Sa_lzpiLAYaD",
        "outputId": "136ef5cd-751b-4cee-abfd-1e33b69d1b49"
      },
      "source": [
        "plot_loss(history.epoch, history.history['loss'],'loss',history.history['val_loss'])\n",
        "plot_loss(history.epoch, history.history['categorical_accuracy'],'Accuracy',history.history['val_categorical_accuracy'])"
      ],
      "execution_count": null,
      "outputs": [
        {
          "output_type": "display_data",
          "data": {
            "image/png": "[encoded data removed]",
            "text/plain": [
              "<Figure size 432x288 with 1 Axes>"
            ]
          },
          "metadata": {
            "needs_background": "light"
          }
        },
        {
          "output_type": "display_data",
          "data": {
            "image/png": "[encoded data removed]",
            "text/plain": [
              "<Figure size 432x288 with 1 Axes>"
            ]
          },
          "metadata": {
            "needs_background": "light"
          }
        }
      ]
    },
    {
      "cell_type": "markdown",
      "metadata": {
        "id": "RB0VG6m0KBMK"
      },
      "source": [
        "## Show the model\n",
        "Use the plot_model() function to show a graphical representation of the model for the assignment"
      ]
    },
    {
      "cell_type": "code",
      "metadata": {
        "id": "oPhaHVNfN8Ek",
        "colab": {
          "base_uri": "https://localhost:8080/",
          "height": 974
        },
        "outputId": "7c15be8e-4f77-4180-96d0-9f404e753fa0"
      },
      "source": [
        "model.summary()\n",
        "tf.keras.utils.plot_model( model, show_shapes=True, expand_nested=True )"
      ],
      "execution_count": null,
      "outputs": [
        {
          "output_type": "stream",
          "name": "stdout",
          "text": [
            "Model: \"sequential\"\n",
            "_________________________________________________________________\n",
            " Layer (type)                Output Shape              Param #   \n",
            "=================================================================\n",
            " dense (Dense)               (None, 150)               75300     \n",
            "                                                                 \n",
            " dropout (Dropout)           (None, 150)               0         \n",
            "                                                                 \n",
            " dense_1 (Dense)             (None, 10)                1510      \n",
            "                                                                 \n",
            " dense_2 (Dense)             (None, 10)                110       \n",
            "                                                                 \n",
            " dense_3 (Dense)             (None, 5)                 55        \n",
            "                                                                 \n",
            "=================================================================\n",
            "Total params: 76,975\n",
            "Trainable params: 76,975\n",
            "Non-trainable params: 0\n",
            "_________________________________________________________________\n"
          ]
        },
        {
          "output_type": "execute_result",
          "data": {
            "image/png": "[encoded data removed]",
            "text/plain": [
              "<IPython.core.display.Image object>"
            ]
          },
          "metadata": {},
          "execution_count": 16
        }
      ]
    },
    {
      "cell_type": "markdown",
      "metadata": {
        "id": "sF535ZUkM2C8"
      },
      "source": [
        "## Save the model\n",
        "Use this command to save evetything about your model (the architecture, the trained weights) in HDF5 format -- you can save this anywhere, just make sure the extension is .h5 and it will save in the correct format.\n",
        "\n",
        "This is useful because we don't want to have to rebuild the model and retrain the model every time we want to use it - especially if the model took a really long time to train."
      ]
    },
    {
      "cell_type": "code",
      "metadata": {
        "id": "fY5yeNudM3rl"
      },
      "source": [
        "output_fname = '/content/gdrive/MyDrive/Colab Notebooks/my_ECG_model.h5'\n",
        "model.save( output_fname )"
      ],
      "execution_count": null,
      "outputs": []
    },
    {
      "cell_type": "markdown",
      "metadata": {
        "id": "dIx5QdISODPs"
      },
      "source": [
        "## Use the saved model\n",
        "Instructor will evaluate a set of test data by loading in your saved model\n"
      ]
    },
    {
      "cell_type": "code",
      "metadata": {
        "id": "SMmk49DLOKm0",
        "colab": {
          "base_uri": "https://localhost:8080/",
          "height": 217
        },
        "outputId": "8d17ca8a-6f22-4917-9e92-7a0acb903f21"
      },
      "source": [
        "model_fname = output_fname\n",
        "saved_model = tf.keras.models.load_model( model_fname )\n",
        "\n",
        "# Load in test data here\n",
        "# test_features = []\n",
        "# encoded_test_labels = []\n",
        "\n",
        "encoded_test_labels = categorizer( test_labels )\n",
        "results = saved_model.evaluate( np.asarray( test_features), np.asarray( encoded_test_labels) )"
      ],
      "execution_count": null,
      "outputs": [
        {
          "output_type": "error",
          "ename": "NameError",
          "evalue": "ignored",
          "traceback": [
            "\u001b[0;31m---------------------------------------------------------------------------\u001b[0m",
            "\u001b[0;31mNameError\u001b[0m                                 Traceback (most recent call last)",
            "\u001b[0;32m<ipython-input-18-8f45e21dd45f>\u001b[0m in \u001b[0;36m<module>\u001b[0;34m()\u001b[0m\n\u001b[1;32m      6\u001b[0m \u001b[0;31m# encoded_test_labels = []\u001b[0m\u001b[0;34m\u001b[0m\u001b[0;34m\u001b[0m\u001b[0;34m\u001b[0m\u001b[0m\n\u001b[1;32m      7\u001b[0m \u001b[0;34m\u001b[0m\u001b[0m\n\u001b[0;32m----> 8\u001b[0;31m \u001b[0mencoded_test_labels\u001b[0m \u001b[0;34m=\u001b[0m \u001b[0mcategorizer\u001b[0m\u001b[0;34m(\u001b[0m \u001b[0mtest_labels\u001b[0m \u001b[0;34m)\u001b[0m\u001b[0;34m\u001b[0m\u001b[0;34m\u001b[0m\u001b[0m\n\u001b[0m\u001b[1;32m      9\u001b[0m \u001b[0mresults\u001b[0m \u001b[0;34m=\u001b[0m \u001b[0msaved_model\u001b[0m\u001b[0;34m.\u001b[0m\u001b[0mevaluate\u001b[0m\u001b[0;34m(\u001b[0m \u001b[0mnp\u001b[0m\u001b[0;34m.\u001b[0m\u001b[0masarray\u001b[0m\u001b[0;34m(\u001b[0m \u001b[0mtest_features\u001b[0m\u001b[0;34m)\u001b[0m\u001b[0;34m,\u001b[0m \u001b[0mnp\u001b[0m\u001b[0;34m.\u001b[0m\u001b[0masarray\u001b[0m\u001b[0;34m(\u001b[0m \u001b[0mencoded_test_labels\u001b[0m\u001b[0;34m)\u001b[0m \u001b[0;34m)\u001b[0m\u001b[0;34m\u001b[0m\u001b[0;34m\u001b[0m\u001b[0m\n",
            "\u001b[0;31mNameError\u001b[0m: name 'test_labels' is not defined"
          ]
        }
      ]
    }
  ]
}